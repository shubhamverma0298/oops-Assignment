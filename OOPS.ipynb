{
  "nbformat": 4,
  "nbformat_minor": 0,
  "metadata": {
    "colab": {
      "provenance": []
    },
    "kernelspec": {
      "name": "python3",
      "display_name": "Python 3"
    },
    "language_info": {
      "name": "python"
    }
  },
  "cells": [
    {
      "cell_type": "markdown",
      "source": [
        "#**OOPS Assignment**"
      ],
      "metadata": {
        "id": "r1lt5sFkoKl9"
      }
    },
    {
      "cell_type": "markdown",
      "source": [
        "**Q 1 What is Object-Oriented Programming (OOP)?**\n",
        "  - Object-Oriented Programming (OOP) is a programming paradigm that organizes software design around objects, which are data structures that contain both data (attributes) and code (methods) that operate on that data, rather than functions and logic.\n",
        "\n",
        "**Q 2 What is a class in OOP?**\n",
        "  - In Object-Oriented Programming (OOP), a class is a blueprint or template for creating objects, defining their properties (attributes) and behaviors (methods).\n",
        "\n",
        "  example:\n",
        "            class A:\n",
        "              def func():\n",
        "                  function code\n",
        "                  return\n",
        "\n",
        "**Q 3 What is an object in OOP?**\n",
        "  - In object-oriented programming (OOP), an object is a fundamental unit that encapsulates data (attributes) and behaviors (methods) representing a real-world entity or concept, and is an instance of a class.\n",
        "  example obj= A() # object of above class\n",
        "\n",
        "**Q 4 What is the difference between abstraction and encapsulation?**\n",
        "  - Abstraction simplifies complexity by presenting only essential features, while encapsulation bundles data and methods into a single unit, controlling access and protecting internal state.\n",
        "\n",
        "**Q 5 What are dunder methods in Python?**\n",
        "  - Dunder:- using the inbulit methods which was feed in class of built in method in python.Impleating operator overloadding in python.defined by built-in classes in python\n",
        "    example :\n",
        "              a=2\n",
        "              b=3\n",
        "              a.__add__(b)\n",
        "              output : 5\n",
        "\n",
        "**Q 6 Explain the concept of inheritance in OOP?**\n",
        "  - In Object-Oriented Programming (OOP), inheritance is a mechanism where a new class (subclass or child class) inherits properties and behaviors from an existing class (superclass or parent class), promoting code reuse and establishing hierarchical relationships between classes\n",
        "  example class A:\n",
        "            pass\n",
        "          classB(A):\n",
        "            pass\n",
        "\n",
        "**Q 7 What is polymorphism in OOP?**\n",
        "  - polymorphism :- poly means many and morphism means forms/states. refer to an object taking several forms depending on the methods/data    \n",
        "  polymorphism has two ways :\n",
        "   - method overloading\n",
        "   - method overridding\n",
        "   class Student:\n",
        "    def student(self):\n",
        "        print(\"welcome to pw skills\")\n",
        "    def student(self,name=\"\"):\n",
        "        print(\"welcome to pw skills\",name)\n",
        "    def student(self,name=\"\",course=\"\"):\n",
        "        print(\"welcome to pwskills\",name,course)\n",
        "\n",
        "**Q 8 How is encapsulation achieved in Python?**\n",
        "  - In object-oriented programming (OOP), encapsulation is the bundling of data (attributes) and methods (functions) that operate on that data into a single unit, typically a class, while restricting direct access to some of its components to protect data integrity and control access.\n",
        "  types of encapsulation are : private ,public,protected\n",
        "  \n",
        "  example:\n",
        "    class Student:\n",
        "      def __init__(self,name,degree,age):\n",
        "        self.name=name # public\n",
        "        self.__degree=degree # private to make it private use \"__\"\n",
        "        self._age=age # protected to make it use \"_\"\n",
        "      def show(self):\n",
        "        return f'name :- {self.name} degree :- {self.__degree} age :- {self._age}'\n",
        "\n",
        "     object = st=Student(\"shubham\",\"bca\",21)\n",
        "     st.name output = shubham\n",
        "     st.__degree output = error\n",
        "     st._age    output = 21\n",
        "\n",
        "**Q 9 What is a constructor in Python?**\n",
        "  -In Python, a constructor, also known as the __init__ method, is a special method within a class that's automatically called when a new object (instance) of that class is created, used to initialize the object's attributes it is used to take data in a class .\n",
        "  example : class A:\n",
        "                def __init__(self,name):\n",
        "                    self.name=name  # to take name as data in class variable\n",
        "\n",
        "**Q 10 What are class and static methods in Python?**\n",
        "  - Class method : is a method used in place of init method it uses cls insiste of self. A class method is bound to the class and receives the class itself as the first argument (cls)\n",
        "  - Static method : A static method is not bound to either the class or an instance, and doesn't receive any automatic arguments.does not modidy class instance.behaves like same function but belongs to the class.it doest take self and cls.no need to make object of the class directly use it\n",
        "    example : class Calculator:\n",
        "              @ staticmethod\n",
        "              def add(x,y):\n",
        "                  return x+y\n",
        "              @ staticmethod\n",
        "              def sub(x,y):\n",
        "                  return x-y  \n",
        "\n",
        "              Calculator.add(5,10) output= 15\n",
        "              \n",
        "**Q 11 What is method overloading in Python?**\n",
        "  -Python uses default arguments and variable-length arguments to achieve similar flexibility in function behavior. the true method overloading is not used in python\n",
        "  example :\n",
        "            class Student:\n",
        "            def student(self):\n",
        "                print(\"welcome to pw skills\")\n",
        "            def student(self,name=\"\"):\n",
        "                print(\"welcome to pw skills\",name)\n",
        "            def student(self,name=\"\",course=\"\"):\n",
        "                print(\"welcome to pwskills\",name,course)\n",
        "\n",
        "  the method student is overloaded on the basis of parametrest/attributes given\n",
        "\n",
        "**Q 12 What is method overriding in OOP?**\n",
        "  - Method overriding allows a subclass to provide a specific implementation of a method that is already defined in its superclass, enabling customized behavior while maintaining the same method signature.\n",
        "  example :\n",
        "            class A:\n",
        "            def print(self):\n",
        "              return \"In class A\"\n",
        "            class B(A):\n",
        "            def print(self):\n",
        "              return \"In class B\"\n",
        "\n",
        "            obj= B()\n",
        "            obj.print()\n",
        "\n",
        "            output : In class B\n",
        "\n",
        "**Q 13 What is a property decorator in Python?**\n",
        "  - A decorator feature in Python wraps in a function, appends several functionalities to existing code and then returns it.\n",
        "  - Proterty decorator - it allows method to access as attribute.to expose private variable it also used . @ property\n",
        "\n",
        "  example :-\n",
        "            class Circle:\n",
        "              def __init__(self,radius):\n",
        "                  self.radius=radius\n",
        "              @property\n",
        "              def area(self):\n",
        "                  radius=self.radius\n",
        "                  return 3.14*radius**2\n",
        "            cir= Circle(5)\n",
        "            cir.radius output=5\n",
        "            cir.area output= 78.5\n",
        "                \n",
        "**Q 14 Why is polymorphism important in OOP?**\n",
        "  - Polymorphism is crucial in OOP because it enables code reusability, flexibility, and extensibility by allowing different objects to respond to the same method call in their own unique ways, promoting a more adaptable and maintainable codebase.\n",
        "\n",
        "**Q 15 What is an abstract class in Python?**\n",
        "  - In Python, an abstract class is a blueprint for other classes that cannot be instantiated directly and contains one or more abstract methods (methods without implementation) that must be implemented by its subclasses.\n",
        "\n",
        "**Q 16 What are the advantages of OOP?**\n",
        "  - Object-Oriented Programming (OOP) offers advantages like\n",
        "  improved code organization through encapsulation,\n",
        "  reusability via inheritance,\n",
        "  flexibility with polymorphism,\n",
        "  simplifying complex systems through abstraction,\n",
        "  resulting in modular, maintainable, and scalable software solutions.\n",
        "\n",
        "**Q 17 What is the difference between a class variable and an instance variable?**\n",
        "  - a class variable (also known as a static variable) is shared among all instances of a class, while an instance variable is unique to each instance (object) of the class\n",
        "\n",
        "**Q 18 What is multiple inheritance in Python?**\n",
        "  - Multiple inheritance :- property of multiple parents class means a child class inherited from more than one parent class\n",
        "  to solve diamond problem the python uses mor that the class first inhereted the function or method of that class first executes\n",
        "  example :\n",
        "            class A:\n",
        "              pass\n",
        "            class B:\n",
        "              pass\n",
        "            class C(B,A):\n",
        "              pass\n",
        "\n",
        "**Q 19 Explain the purpose of ‘’__str__’ and ‘__repr__’ ‘ methods in Python?**\n",
        "  - '__str__' and '__repr__' is a dunder method which is already in the base class of python when it is writing\n",
        "  '__str__' :- is used to represent the string representation of the givien data\n",
        "  '__repr__' :- is used to represent the  more formal, developer-friendly representation for debugging and introspection.\n",
        "\n",
        "**Q 20 What is the significance of the ‘super()’ function in Python?**\n",
        "  - In Python, the super() function is a built-in function used within a subclass to call methods and access attributes of its parent or superclass.\n",
        "\n",
        "**Q 21 What is the significance of the __del__ method in Python?**\n",
        "  - In python __del__ method is also known as destructor it is used to delete the method or data in a class variable or the class it self\n",
        "\n",
        "**Q 22 What is the difference between @staticmethod and @classmethod in Python?**\n",
        "  - @ class method :-the class method is used to replace the init method and cls is used insiste of self key word binds a method to the class itself, receiving the class (cls) as its first argument\n",
        "  - @ static method :- the static method is the method which behaves like same function but belongs to the class.it doest take self and cls as attribites.no need to make object of the class directly use it binds a method to the class without any implicit arguments, making it suitable for utility functions within a class.\n",
        "\n",
        "**Q 23 How does polymorphism work in Python with inheritance?**\n",
        "  - polymorphism work in python with inheritance with help of method overriding\n",
        "    example\n",
        "            class A:\n",
        "              def print(self):\n",
        "                  return \"in class A\"\n",
        "            class B(A):\n",
        "              def print(self):\n",
        "                  return \"in class B\"\n",
        "\n",
        "            obj=B()\n",
        "            obj.print()\n",
        "\n",
        "**Q 24 What is method chaining in Python OOP?**\n",
        "  - Method chaining is a powerful technique in Python programming that allows us to call multiple methods on an object in a single, continuous line of code\n",
        "  example :-\n",
        "            text = \" hello, gfg! \"\n",
        "            result = text.strip().capitalize().replace(\"gfg\", \"GeeksForGeeks\")\n",
        "            print(result)\n",
        "\n",
        "**Q 25 What is the purpose of the __call__ method in Python?**\n",
        "  - The __call__ method in Python allows you to make instances of a class callable, meaning you can call them like functions (e.g., my_object() instead of my_object.some_method()). it is a dunder method in python\n",
        "  example:\n",
        "          class Call:\n",
        "              def __call__(self):\n",
        "                  print(\"call able method \")\n",
        "          \n",
        "          c=Call()\n",
        "          c()\n",
        "\n",
        "          output:- call able method\n",
        "\n",
        "\n"
      ],
      "metadata": {
        "id": "9VfXqrM8oS9F"
      }
    },
    {
      "cell_type": "markdown",
      "source": [
        "#**Practical Questions**"
      ],
      "metadata": {
        "id": "56gWSKDFQ7om"
      }
    },
    {
      "cell_type": "markdown",
      "source": [
        "**Q 1  Create a parent class Animal with a method speak() that prints a generic message. Create a child class Dog\n",
        "that overrides the speak() method to print \"Bark!\"?**"
      ],
      "metadata": {
        "id": "hs8r7BZyRGMG"
      }
    },
    {
      "cell_type": "code",
      "source": [
        "class Animal:\n",
        "    def speak(self):\n",
        "        print(\"generic message\")\n",
        "class Dog(Animal):\n",
        "    def speak(self):\n",
        "        print(\"Bark!\")"
      ],
      "metadata": {
        "id": "1LVb4R4GoeVS"
      },
      "execution_count": null,
      "outputs": []
    },
    {
      "cell_type": "code",
      "source": [
        "d=Dog()\n",
        "d.speak()"
      ],
      "metadata": {
        "colab": {
          "base_uri": "https://localhost:8080/"
        },
        "id": "1VL1EeRJR5AM",
        "outputId": "04d43ad7-1a0a-4263-d580-6aa78946c065"
      },
      "execution_count": null,
      "outputs": [
        {
          "output_type": "stream",
          "name": "stdout",
          "text": [
            "Bark!\n"
          ]
        }
      ]
    },
    {
      "cell_type": "markdown",
      "source": [
        "**Q 2 Write a program to create an abstract class Shape with a method area(). Derive classes Circle and Rectangle\n",
        "from it and implement the area() method in both?**"
      ],
      "metadata": {
        "id": "rPsZke9LRcpU"
      }
    },
    {
      "cell_type": "code",
      "source": [
        "from abc import ABC, abstractmethod\n",
        "class Shape(ABC):\n",
        "    @abstractmethod\n",
        "    def area(self):\n",
        "        pass\n",
        "\n",
        "class Circle(Shape):\n",
        "    def __init__(self, radius):\n",
        "        self.radius = radius\n",
        "\n",
        "    def area(self):\n",
        "        return 3.14 * self.radius**2\n",
        "\n",
        "class Rectangle(Shape):\n",
        "    def __init__(self, length, width):\n",
        "        self.length = length\n",
        "        self.width = width\n",
        "\n",
        "    def area(self):\n",
        "        return self.length * self.width"
      ],
      "metadata": {
        "id": "NunlxRTJRak5"
      },
      "execution_count": null,
      "outputs": []
    },
    {
      "cell_type": "code",
      "source": [
        "c=Circle(5)\n",
        "c.area()"
      ],
      "metadata": {
        "colab": {
          "base_uri": "https://localhost:8080/"
        },
        "id": "SDuBzj5LSuFR",
        "outputId": "5c81e927-628a-4908-bc9c-f97f0460dc2d"
      },
      "execution_count": null,
      "outputs": [
        {
          "output_type": "execute_result",
          "data": {
            "text/plain": [
              "78.5"
            ]
          },
          "metadata": {},
          "execution_count": 9
        }
      ]
    },
    {
      "cell_type": "code",
      "source": [
        "r=Rectangle(12,25)\n",
        "r.area()"
      ],
      "metadata": {
        "colab": {
          "base_uri": "https://localhost:8080/"
        },
        "id": "VR3vNnfMSzvV",
        "outputId": "427a0f01-5827-42d9-9d77-96de060e4c8d"
      },
      "execution_count": null,
      "outputs": [
        {
          "output_type": "execute_result",
          "data": {
            "text/plain": [
              "300"
            ]
          },
          "metadata": {},
          "execution_count": 10
        }
      ]
    },
    {
      "cell_type": "markdown",
      "source": [
        "**Q 3  Implement a multi-level inheritance scenario where a class Vehicle has an attribute type. Derive a class Car\n",
        "and further derive a class ElectricCar that adds a battery attribute?**"
      ],
      "metadata": {
        "id": "5LocLYDfS6YB"
      }
    },
    {
      "cell_type": "code",
      "source": [
        "class Vehicle:\n",
        "  def __init__(self,type):\n",
        "      self.type=type\n",
        "  def show(self):\n",
        "      return self.type\n",
        "class Car(Vehicle):\n",
        "  def __init__(self,type,brand):\n",
        "    super().__init__(type)\n",
        "    self.brand=brand\n",
        "  def show(self):\n",
        "      return self.type,self.brand\n",
        "class ElectricCar(Car):\n",
        "  def __init__(self,type,brand,battery):\n",
        "    super().__init__(type,brand)\n",
        "    self.battery=battery\n",
        "  def show(self):\n",
        "      return self.type,self.brand,self.battery"
      ],
      "metadata": {
        "id": "SHqFTz43S5FX"
      },
      "execution_count": null,
      "outputs": []
    },
    {
      "cell_type": "code",
      "source": [
        "elc=ElectricCar(\"car\",\"tata\",\"72KV\")\n",
        "elc.show()"
      ],
      "metadata": {
        "colab": {
          "base_uri": "https://localhost:8080/"
        },
        "id": "vkyPoYauVEUA",
        "outputId": "06bfa66b-6a29-4244-f73b-f4ae41e808d3"
      },
      "execution_count": null,
      "outputs": [
        {
          "output_type": "execute_result",
          "data": {
            "text/plain": [
              "('car', 'tata', '72KV')"
            ]
          },
          "metadata": {},
          "execution_count": 12
        }
      ]
    },
    {
      "cell_type": "markdown",
      "source": [
        "**Q 4  Demonstrate polymorphism by creating a base class Bird with a method fly(). Create two derived classes\n",
        "Sparrow and Penguin that override the fly() method?**"
      ],
      "metadata": {
        "id": "VT2jhWq3VSEu"
      }
    },
    {
      "cell_type": "code",
      "source": [
        "class Bird:\n",
        "  def fly(self):\n",
        "    print(\"in bird class bird can fly\")\n",
        "class Sparrow(Bird):\n",
        "  def fly(self):\n",
        "    print(\"in sparrow class sparrow can fly\")\n",
        "class Penguin(Bird):\n",
        "  def fly(self):\n",
        "    print(\"in penguin class penguin can't fly\")"
      ],
      "metadata": {
        "id": "WugHMqXGVQVQ"
      },
      "execution_count": null,
      "outputs": []
    },
    {
      "cell_type": "code",
      "source": [
        "b=Bird()\n",
        "b.fly()"
      ],
      "metadata": {
        "colab": {
          "base_uri": "https://localhost:8080/"
        },
        "id": "qojyvTSvVwzc",
        "outputId": "dcedc183-7b92-464d-931d-50b4956ad0f2"
      },
      "execution_count": null,
      "outputs": [
        {
          "output_type": "stream",
          "name": "stdout",
          "text": [
            "in bird class bird can fly\n"
          ]
        }
      ]
    },
    {
      "cell_type": "code",
      "source": [
        "s=Sparrow()\n",
        "s.fly()"
      ],
      "metadata": {
        "colab": {
          "base_uri": "https://localhost:8080/"
        },
        "id": "5sTKB8ACV3DE",
        "outputId": "78461648-f4da-4633-b27d-494f04db480b"
      },
      "execution_count": null,
      "outputs": [
        {
          "output_type": "stream",
          "name": "stdout",
          "text": [
            "in sparrow class sparrow can fly\n"
          ]
        }
      ]
    },
    {
      "cell_type": "code",
      "source": [
        "p=Penguin()\n",
        "p.fly()"
      ],
      "metadata": {
        "colab": {
          "base_uri": "https://localhost:8080/"
        },
        "id": "UEqbbhWDV5IJ",
        "outputId": "2f5aaa80-765f-4c0c-b3c5-fe6f6c766573"
      },
      "execution_count": null,
      "outputs": [
        {
          "output_type": "stream",
          "name": "stdout",
          "text": [
            "in penguin class penguin can't fly\n"
          ]
        }
      ]
    },
    {
      "cell_type": "markdown",
      "source": [
        "**Q 5 Write a program to demonstrate encapsulation by creating a class BankAccount with private attributes\n",
        "balance and methods to deposit, withdraw, and check balance?**"
      ],
      "metadata": {
        "id": "E5Xy50f1WATB"
      }
    },
    {
      "cell_type": "code",
      "source": [
        "class BankAccount:\n",
        "  def __init__(self,balance):\n",
        "    self.__balance=balance\n",
        "  def deposit(self,amount):\n",
        "    self.amount=amount\n",
        "    self.__balance=self.__balance+self.amount\n",
        "    return self.__balance\n",
        "  def withdraw(self,amount):\n",
        "    self.amount=amount\n",
        "    if self.__balance>=self.amount:\n",
        "      self.__balance=self.__balance-self.amount\n",
        "      return self.__balance\n",
        "    else:\n",
        "      return \"insufficient balance\"\n",
        "  def check_balance(self):\n",
        "    return self.__balance"
      ],
      "metadata": {
        "id": "gZChzSsmV7dH"
      },
      "execution_count": null,
      "outputs": []
    },
    {
      "cell_type": "code",
      "source": [
        "rohan=BankAccount(1000)\n",
        "rohan.deposit(500)\n",
        "rohan.check_balance()"
      ],
      "metadata": {
        "colab": {
          "base_uri": "https://localhost:8080/"
        },
        "id": "GChvxRINW730",
        "outputId": "7f550500-a65e-4883-d6d3-051aafaa3f40"
      },
      "execution_count": null,
      "outputs": [
        {
          "output_type": "execute_result",
          "data": {
            "text/plain": [
              "1500"
            ]
          },
          "metadata": {},
          "execution_count": 19
        }
      ]
    },
    {
      "cell_type": "code",
      "source": [
        "rohan.withdraw(1000)\n",
        "rohan.check_balance()"
      ],
      "metadata": {
        "colab": {
          "base_uri": "https://localhost:8080/"
        },
        "id": "I_ONaP34XD-H",
        "outputId": "28a418b2-af0c-43c7-d75e-b645e9cc0b5b"
      },
      "execution_count": null,
      "outputs": [
        {
          "output_type": "execute_result",
          "data": {
            "text/plain": [
              "500"
            ]
          },
          "metadata": {},
          "execution_count": 21
        }
      ]
    },
    {
      "cell_type": "markdown",
      "source": [
        "**Q 6 Demonstrate runtime polymorphism using a method play() in a base class Instrument. Derive classes Guitar\n",
        "and Piano that implement their own version of play()?**"
      ],
      "metadata": {
        "id": "Vrl7t6-xXKfn"
      }
    },
    {
      "cell_type": "code",
      "source": [
        "class Instrument:\n",
        "  def play(self):\n",
        "    print(\"in instrument class\")\n",
        "class Guitar(Instrument):\n",
        "  def play(self):\n",
        "    print(\"Playing guitar\")\n",
        "class Piano(Instrument):\n",
        "  def play(self):\n",
        "    print(\"Playing piano\")"
      ],
      "metadata": {
        "id": "mHb798NiXYkP"
      },
      "execution_count": null,
      "outputs": []
    },
    {
      "cell_type": "code",
      "source": [
        "p=Piano()\n",
        "p.play()"
      ],
      "metadata": {
        "colab": {
          "base_uri": "https://localhost:8080/"
        },
        "id": "Bu0hLmeuXjr9",
        "outputId": "1423a7b9-f28f-4a1d-c405-c39360fb071b"
      },
      "execution_count": null,
      "outputs": [
        {
          "output_type": "stream",
          "name": "stdout",
          "text": [
            "Playing piano\n"
          ]
        }
      ]
    },
    {
      "cell_type": "markdown",
      "source": [
        "**Q 7 Create a class MathOperations with a class method add_numbers() to add two numbers and a static\n",
        "method subtract_numbers() to subtract two numbers?**"
      ],
      "metadata": {
        "id": "BgSApmPuXoZe"
      }
    },
    {
      "cell_type": "code",
      "source": [
        "class MathOperations:\n",
        "  @classmethod\n",
        "  def add_numbers(cls,a,b):\n",
        "    return a+b\n",
        "  @staticmethod\n",
        "  def sub_numbers(a,b):\n",
        "    return a-b"
      ],
      "metadata": {
        "id": "Pj3_-BlJXnbr"
      },
      "execution_count": null,
      "outputs": []
    },
    {
      "cell_type": "code",
      "source": [
        "cal=MathOperations()\n",
        "cal.add_numbers(5,10)"
      ],
      "metadata": {
        "colab": {
          "base_uri": "https://localhost:8080/"
        },
        "id": "wfGrxcEWYXx1",
        "outputId": "6354680f-3c97-45df-88a5-15f48492ab3c"
      },
      "execution_count": null,
      "outputs": [
        {
          "output_type": "execute_result",
          "data": {
            "text/plain": [
              "15"
            ]
          },
          "metadata": {},
          "execution_count": 27
        }
      ]
    },
    {
      "cell_type": "code",
      "source": [
        "MathOperations.sub_numbers(10,5)"
      ],
      "metadata": {
        "colab": {
          "base_uri": "https://localhost:8080/"
        },
        "id": "7uhQZstLYiKn",
        "outputId": "6f999d22-2a59-490a-8607-6ef4064bedd3"
      },
      "execution_count": null,
      "outputs": [
        {
          "output_type": "execute_result",
          "data": {
            "text/plain": [
              "5"
            ]
          },
          "metadata": {},
          "execution_count": 28
        }
      ]
    },
    {
      "cell_type": "markdown",
      "source": [
        "**Q 8 Implement a class Person with a class method to count the total number of persons created?**"
      ],
      "metadata": {
        "id": "mqNuQcmJYzU1"
      }
    },
    {
      "cell_type": "code",
      "source": [
        "class Person:\n",
        "  count=0\n",
        "  @classmethod\n",
        "  def count_persons(cls):\n",
        "    return cls.count\n",
        "  def __init__(self,name):\n",
        "    self.name=name\n",
        "    Person.count+=1"
      ],
      "metadata": {
        "id": "JyiPPRmiYsoa"
      },
      "execution_count": null,
      "outputs": []
    },
    {
      "cell_type": "code",
      "source": [
        "p1=Person(\"raju\")\n",
        "p2=Person(\"shyam\")"
      ],
      "metadata": {
        "id": "Q8vYhnCXZfr1"
      },
      "execution_count": null,
      "outputs": []
    },
    {
      "cell_type": "code",
      "source": [
        "print(Person.count_persons())"
      ],
      "metadata": {
        "colab": {
          "base_uri": "https://localhost:8080/"
        },
        "id": "PpmkDMsZZl-C",
        "outputId": "da9e0e1c-b09d-4911-8913-a893cf637a0e"
      },
      "execution_count": null,
      "outputs": [
        {
          "output_type": "stream",
          "name": "stdout",
          "text": [
            "2\n"
          ]
        }
      ]
    },
    {
      "cell_type": "markdown",
      "source": [
        "**Q 9 Write a class Fraction with attributes numerator and denominator. Override the str method to display the\n",
        "fraction as \"numerator/denominator\"?**"
      ],
      "metadata": {
        "id": "BYDFlXSjZxDE"
      }
    },
    {
      "cell_type": "code",
      "source": [
        "class Fraction:\n",
        "  def __init__(self,numerator,denominator):\n",
        "    self.numerator=numerator\n",
        "    self.denominator=denominator\n",
        "  def __str__(self):\n",
        "        return f\"{self.numerator}/{self.denominator}\"\n"
      ],
      "metadata": {
        "id": "5uzKqU-daGEj"
      },
      "execution_count": null,
      "outputs": []
    },
    {
      "cell_type": "code",
      "source": [
        "f=Fraction(12,2)"
      ],
      "metadata": {
        "id": "fAH3hRcwapMP"
      },
      "execution_count": null,
      "outputs": []
    },
    {
      "cell_type": "code",
      "source": [
        "f.denominator"
      ],
      "metadata": {
        "colab": {
          "base_uri": "https://localhost:8080/"
        },
        "id": "pMcGe5hNa-Ql",
        "outputId": "22a6489e-7150-4f6d-8caf-600e9f4c197a"
      },
      "execution_count": null,
      "outputs": [
        {
          "output_type": "execute_result",
          "data": {
            "text/plain": [
              "2"
            ]
          },
          "metadata": {},
          "execution_count": 36
        }
      ]
    },
    {
      "cell_type": "code",
      "source": [
        "f.numerator"
      ],
      "metadata": {
        "colab": {
          "base_uri": "https://localhost:8080/"
        },
        "id": "1l-yZiYfbH_L",
        "outputId": "36bac320-a965-47da-e404-76bdc6ed4e51"
      },
      "execution_count": null,
      "outputs": [
        {
          "output_type": "execute_result",
          "data": {
            "text/plain": [
              "12"
            ]
          },
          "metadata": {},
          "execution_count": 37
        }
      ]
    },
    {
      "cell_type": "markdown",
      "source": [
        "**Q 10 Demonstrate operator overloading by creating a class Vector and overriding the add method to add two\n",
        "vectors?**"
      ],
      "metadata": {
        "id": "UnS0xAY7t5jW"
      }
    },
    {
      "cell_type": "code",
      "source": [
        "class Vector:\n",
        "    def __init__(self, x, y):\n",
        "        self.x = x\n",
        "        self.y = y\n",
        "\n",
        "    def __add__(self, other):\n",
        "        return Vector(self.x + other.x, self.y + other.y)\n",
        "\n",
        "    def __str__(self):\n",
        "        return f\"({self.x}, {self.y})\""
      ],
      "metadata": {
        "id": "yGge2fuQbJop"
      },
      "execution_count": 3,
      "outputs": []
    },
    {
      "cell_type": "code",
      "source": [
        "v1=Vector(2,4)\n",
        "v2=Vector(4,8)\n",
        "v3=v1+v2\n",
        "print(v3.x,v3.y)"
      ],
      "metadata": {
        "colab": {
          "base_uri": "https://localhost:8080/"
        },
        "id": "VaDA78TsvIsU",
        "outputId": "1524735b-1737-403b-ca39-ccb121485361"
      },
      "execution_count": 4,
      "outputs": [
        {
          "output_type": "stream",
          "name": "stdout",
          "text": [
            "6 12\n"
          ]
        }
      ]
    },
    {
      "cell_type": "markdown",
      "source": [
        "**Q 11  Create a class Person with attributes name and age. Add a method greet() that prints \"Hello, my name is\n",
        "{name} and I am {age} years old.\"?**"
      ],
      "metadata": {
        "id": "axR_XB-AvkTx"
      }
    },
    {
      "cell_type": "code",
      "source": [
        "class Person:\n",
        "  def __init__(self,name,age):\n",
        "    self.name=name\n",
        "    self.age=age\n",
        "  def greet(self):\n",
        "    print(f'Hello,my name is {self.name} and I am {self.age} years old')\n"
      ],
      "metadata": {
        "id": "lcvfHgQGwyaL"
      },
      "execution_count": 9,
      "outputs": []
    },
    {
      "cell_type": "code",
      "source": [
        "p=Person(\"rohan\",15)\n",
        "p.greet()"
      ],
      "metadata": {
        "colab": {
          "base_uri": "https://localhost:8080/"
        },
        "id": "h6qRhwcZwMOn",
        "outputId": "edf15094-4ef7-409b-d28f-27a1ef81de0e"
      },
      "execution_count": 10,
      "outputs": [
        {
          "output_type": "stream",
          "name": "stdout",
          "text": [
            "Hello,my name is rohan and I am 15 years old\n"
          ]
        }
      ]
    },
    {
      "cell_type": "markdown",
      "source": [
        "**Q 12  Implement a class Student with attributes name and grades. Create a method average_grade() to compute\n",
        "the average of the grades?**"
      ],
      "metadata": {
        "id": "p-gwIWVtwUTb"
      }
    },
    {
      "cell_type": "code",
      "source": [
        "class Student:\n",
        "  def __init__(self,name,grades):\n",
        "    self.name=name\n",
        "    self.grades=grades\n",
        "  def average_grade(self):\n",
        "    return sum(self.grades)/len(self.grades)"
      ],
      "metadata": {
        "id": "rrvpbejYxO7y"
      },
      "execution_count": 13,
      "outputs": []
    },
    {
      "cell_type": "code",
      "source": [
        "s1=Student(\"rohan\",[70,80,90,80,95])\n",
        "s1.average_grade()"
      ],
      "metadata": {
        "colab": {
          "base_uri": "https://localhost:8080/"
        },
        "id": "qxyrNfXgxDqE",
        "outputId": "d17479c4-31db-460f-82ee-0ff3dac8b440"
      },
      "execution_count": 14,
      "outputs": [
        {
          "output_type": "execute_result",
          "data": {
            "text/plain": [
              "83.0"
            ]
          },
          "metadata": {},
          "execution_count": 14
        }
      ]
    },
    {
      "cell_type": "markdown",
      "source": [
        "**Q 13  Create a class Rectangle with methods set_dimensions() to set the dimensions and area() to calculate the\n",
        "area?**"
      ],
      "metadata": {
        "id": "3lZShyz4xWZF"
      }
    },
    {
      "cell_type": "code",
      "source": [
        "class Rectangle:\n",
        "  def __init__(self,length,breadth):\n",
        "    self.length=length\n",
        "    self.breadth=breadth\n",
        "  def set_dimensions(self,length,breadth):\n",
        "    self.length=length\n",
        "    self.breadth=breadth\n",
        "  def area(self):\n",
        "    return self.length*self.breadth\n"
      ],
      "metadata": {
        "id": "DbpMdw-zxHkf"
      },
      "execution_count": 30,
      "outputs": []
    },
    {
      "cell_type": "code",
      "source": [
        "r=Rectangle(10,15)"
      ],
      "metadata": {
        "id": "BmqoNdypyWRG"
      },
      "execution_count": 33,
      "outputs": []
    },
    {
      "cell_type": "code",
      "source": [
        "r.set_dimensions(20,25)"
      ],
      "metadata": {
        "id": "01_oSXVryX2n"
      },
      "execution_count": 35,
      "outputs": []
    },
    {
      "cell_type": "code",
      "source": [
        "r.area()"
      ],
      "metadata": {
        "colab": {
          "base_uri": "https://localhost:8080/"
        },
        "id": "ST8BOXGFyaxG",
        "outputId": "d071236e-f1a2-439d-8feb-49deb4f8a501"
      },
      "execution_count": 36,
      "outputs": [
        {
          "output_type": "execute_result",
          "data": {
            "text/plain": [
              "500"
            ]
          },
          "metadata": {},
          "execution_count": 36
        }
      ]
    },
    {
      "cell_type": "markdown",
      "source": [
        "**Q 14 Create a class Employee with a method calculate_salary() that computes the salary based on hours worked\n",
        "and hourly rate. Create a derived class Manager that adds a bonus to the salary?**"
      ],
      "metadata": {
        "id": "rXDIi7K0zaDs"
      }
    },
    {
      "cell_type": "code",
      "source": [
        "class Employee:\n",
        "  def __init__(self,name,hours_worked,hourly_rate):\n",
        "    self.name=name\n",
        "    self.hours_worked=hours_worked\n",
        "    self.hourly_rate=hourly_rate\n",
        "  def calculate_salary(self):\n",
        "    return self.hours_worked*self.hourly_rate\n",
        "class Manager(Employee):\n",
        "  def __init__(self,name,hours_worked,hourly_rate,bonus):\n",
        "    super().__init__(name,hours_worked,hourly_rate)\n",
        "    self.bonus=bonus\n",
        "  def calculate_salary(self):\n",
        "    return super().calculate_salary()+self.bonus\n"
      ],
      "metadata": {
        "id": "rDdGREuKzYQW"
      },
      "execution_count": 37,
      "outputs": []
    },
    {
      "cell_type": "code",
      "source": [
        "E1=Employee(\"rohan\",1000,50)\n",
        "E1.calculate_salary()"
      ],
      "metadata": {
        "colab": {
          "base_uri": "https://localhost:8080/"
        },
        "id": "TuJCtiPm0sUl",
        "outputId": "d997610d-52c7-4f36-909e-fa2a46b934c5"
      },
      "execution_count": 39,
      "outputs": [
        {
          "output_type": "execute_result",
          "data": {
            "text/plain": [
              "50000"
            ]
          },
          "metadata": {},
          "execution_count": 39
        }
      ]
    },
    {
      "cell_type": "code",
      "source": [
        "M=Manager(\"rohan\",1000,50,500)\n",
        "M.calculate_salary()"
      ],
      "metadata": {
        "colab": {
          "base_uri": "https://localhost:8080/"
        },
        "id": "WgC6rrNd0vox",
        "outputId": "b64a123f-30d4-404e-cd9a-21cb44e245df"
      },
      "execution_count": 41,
      "outputs": [
        {
          "output_type": "execute_result",
          "data": {
            "text/plain": [
              "50500"
            ]
          },
          "metadata": {},
          "execution_count": 41
        }
      ]
    },
    {
      "cell_type": "markdown",
      "source": [
        "**Q 15 Create a class Product with attributes name, price, and quantity. Implement a method total_price() that\n",
        "calculates the total price of the product?**"
      ],
      "metadata": {
        "id": "9jitXXhX1Qak"
      }
    },
    {
      "cell_type": "code",
      "source": [
        "class Product:\n",
        "  def __init__(self,name,price,quantity):\n",
        "    self.name=name\n",
        "    self.price=price\n",
        "    self.quantity=quantity\n",
        "  def total_price(self):\n",
        "    return f'the total price of {self.name} is {self.price*self.quantity}'"
      ],
      "metadata": {
        "id": "sWKmuMUf06PR"
      },
      "execution_count": 45,
      "outputs": []
    },
    {
      "cell_type": "code",
      "source": [
        "p1=Product(\"pen\",5,1500)"
      ],
      "metadata": {
        "id": "Q-I81vsw140A"
      },
      "execution_count": 46,
      "outputs": []
    },
    {
      "cell_type": "code",
      "source": [
        "p1.total_price()"
      ],
      "metadata": {
        "colab": {
          "base_uri": "https://localhost:8080/",
          "height": 36
        },
        "id": "nBHuvW5i1_F4",
        "outputId": "7ad35914-460c-4074-d714-8c50fc08e988"
      },
      "execution_count": 47,
      "outputs": [
        {
          "output_type": "execute_result",
          "data": {
            "text/plain": [
              "'the total price of pen is 7500'"
            ],
            "application/vnd.google.colaboratory.intrinsic+json": {
              "type": "string"
            }
          },
          "metadata": {},
          "execution_count": 47
        }
      ]
    },
    {
      "cell_type": "markdown",
      "source": [
        "**Q 16 Create a class Animal with an abstract method sound(). Create two derived classes Cow and Sheep that\n",
        "implement the sound() method?**"
      ],
      "metadata": {
        "id": "y0cEnWyu2WKx"
      }
    },
    {
      "cell_type": "code",
      "source": [
        "import abc\n",
        "class Animal:\n",
        "  @abc.abstractmethod\n",
        "  def sound(self):\n",
        "    pass\n",
        "class Cow(Animal):\n",
        "  def sound(self):\n",
        "    print(\"moo\")\n",
        "class Sheep(Animal):\n",
        "  def sound(self):\n",
        "    print(\"baa\")"
      ],
      "metadata": {
        "id": "hMSQ-9GV2CSQ"
      },
      "execution_count": 48,
      "outputs": []
    },
    {
      "cell_type": "code",
      "source": [
        "c=Cow()\n",
        "c.sound()"
      ],
      "metadata": {
        "colab": {
          "base_uri": "https://localhost:8080/"
        },
        "id": "4mkqPhgo250i",
        "outputId": "0581e0d8-e584-4580-d7ce-131933cce9c6"
      },
      "execution_count": 49,
      "outputs": [
        {
          "output_type": "stream",
          "name": "stdout",
          "text": [
            "moo\n"
          ]
        }
      ]
    },
    {
      "cell_type": "markdown",
      "source": [
        "**Q 17 Create a class Book with attributes title, author, and year_published. Add a method get_book_info() that\n",
        "returns a formatted string with the book's details?**"
      ],
      "metadata": {
        "id": "bqHsbF0P28Wr"
      }
    },
    {
      "cell_type": "code",
      "source": [
        "class Book:\n",
        "  def __init__(self,title,author,year_published):\n",
        "    self.title=title\n",
        "    self.author=author\n",
        "    self.year_published=year_published\n",
        "  def get_book_info(self):\n",
        "    return f'the book {self.title} is written by {self.author} in {self.year_published}'\n"
      ],
      "metadata": {
        "id": "G9aj2Gu-27fa"
      },
      "execution_count": 50,
      "outputs": []
    },
    {
      "cell_type": "code",
      "source": [
        "b1=Book(\"python\",\"rohan\",2023)"
      ],
      "metadata": {
        "id": "XJWB5-pZ4AwJ"
      },
      "execution_count": 51,
      "outputs": []
    },
    {
      "cell_type": "code",
      "source": [
        "b1.get_book_info()"
      ],
      "metadata": {
        "colab": {
          "base_uri": "https://localhost:8080/",
          "height": 36
        },
        "id": "e7OUdPGC4Dz8",
        "outputId": "d9218d22-bcb7-46a3-f8a7-520169deaca3"
      },
      "execution_count": 52,
      "outputs": [
        {
          "output_type": "execute_result",
          "data": {
            "text/plain": [
              "'the book python is written by rohan in 2023'"
            ],
            "application/vnd.google.colaboratory.intrinsic+json": {
              "type": "string"
            }
          },
          "metadata": {},
          "execution_count": 52
        }
      ]
    },
    {
      "cell_type": "markdown",
      "source": [
        "**Q 18  Create a class House with attributes address and price. Create a derived class Mansion that adds an\n",
        "attribute number_of_rooms?**"
      ],
      "metadata": {
        "id": "OZoHzD_G4G9Y"
      }
    },
    {
      "cell_type": "code",
      "source": [
        "class House:\n",
        "  def __init__(self,address,price):\n",
        "    self.address=address\n",
        "    self.price=price\n",
        "class Mansion(House):\n",
        "  def __init__(self,address,price,number_of_rooms):\n",
        "    super().__init__(address,price)\n",
        "    self.number_of_rooms=number_of_rooms\n",
        "  def show(self):\n",
        "    return f'the address of mansion is {self.address},price is {self.price},the number of rooms are {self.number_of_rooms}'\n"
      ],
      "metadata": {
        "id": "KFyQsRga4F12"
      },
      "execution_count": 57,
      "outputs": []
    },
    {
      "cell_type": "code",
      "source": [
        "M1=Mansion(\"india\",200000,5)"
      ],
      "metadata": {
        "id": "7hOm-4Oc5Lrf"
      },
      "execution_count": 58,
      "outputs": []
    },
    {
      "cell_type": "code",
      "source": [
        "M1.show()"
      ],
      "metadata": {
        "colab": {
          "base_uri": "https://localhost:8080/",
          "height": 36
        },
        "id": "2GY0TwCH5TRP",
        "outputId": "736d700b-b7e9-4c43-af76-63c55985e933"
      },
      "execution_count": 59,
      "outputs": [
        {
          "output_type": "execute_result",
          "data": {
            "text/plain": [
              "'the address of mansion is india,price is 200000,the number of rooms are 5'"
            ],
            "application/vnd.google.colaboratory.intrinsic+json": {
              "type": "string"
            }
          },
          "metadata": {},
          "execution_count": 59
        }
      ]
    }
  ]
}